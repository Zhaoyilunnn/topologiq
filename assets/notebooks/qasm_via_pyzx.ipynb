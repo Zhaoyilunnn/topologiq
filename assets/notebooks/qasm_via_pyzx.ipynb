{
 "cells": [
  {
   "cell_type": "markdown",
   "id": "325ca446",
   "metadata": {},
   "source": [
    "# PyZX interoperability: a simple graph"
   ]
  },
  {
   "cell_type": "code",
   "execution_count": null,
   "id": "395d6c98",
   "metadata": {},
   "outputs": [],
   "source": [
    "import os\n",
    "import sys\n",
    "import pyzx as zx\n",
    "from qiskit import ClassicalRegister, QuantumCircuit, QuantumRegister\n",
    "import qiskit.qasm2 as qasm2\n",
    "\n",
    "root_folder = os.path.abspath(os.path.join(os.getcwd(), \"..\", \"..\"))\n",
    "if root_folder not in sys.path:\n",
    "    sys.path.insert(0, root_folder)\n",
    "\n",
    "from scripts.runner import runner\n",
    "from utils.interop_pyzx import pyzx_g_to_simple_g\n",
    "from utils.utils_zx_graphs import kind_to_zx_type\n",
    "\n",
    "zx.settings.colors = zx.rgb_colors\n",
    "%matplotlib widget"
   ]
  },
  {
   "cell_type": "markdown",
   "id": "47982202",
   "metadata": {},
   "source": [
    "This notebook offers an example of how to use ***topologiq*** to perform an algorithmic lattice surgery on QASM circuits. All circuits correspond to different versions of a Steane code."
   ]
  },
  {
   "cell_type": "markdown",
   "id": "821cc56d",
   "metadata": {},
   "source": [
    "## Qiskit -> QASM"
   ]
  },
  {
   "cell_type": "markdown",
   "id": "22a40b10",
   "metadata": {},
   "source": [
    "Let's start by using Qiskit to produce a QASM string that can undergo algorithmic lattice surgery using ***topologiq***. \n",
    "\n",
    "The first step is to create the Qiskit circuit. "
   ]
  },
  {
   "cell_type": "code",
   "execution_count": null,
   "id": "40057f99",
   "metadata": {},
   "outputs": [],
   "source": [
    "# Thanks [Yilun Zhao](https://github.com/Zhaoyilunnn) for the code and rationale in this block.\n",
    "def steane_encoding() -> QuantumCircuit:\n",
    "    qc = QuantumCircuit(10)\n",
    "\n",
    "    qc.h(0)\n",
    "    qc.cx(0, 3)\n",
    "    qc.cx(0, 4)\n",
    "    qc.cx(0, 5)\n",
    "    qc.cx(0, 6)\n",
    "    qc.h(0)\n",
    "\n",
    "    qc.h(1)\n",
    "    qc.cx(1, 3)\n",
    "    qc.cx(1, 4)\n",
    "    qc.cx(1, 7)\n",
    "    qc.cx(1, 8)\n",
    "    qc.h(1)\n",
    "\n",
    "    qc.h(2)\n",
    "    qc.cx(2, 3)\n",
    "    qc.cx(2, 5)\n",
    "    qc.cx(2, 7)\n",
    "    qc.cx(2, 9)\n",
    "    qc.h(2)\n",
    "\n",
    "    return qc\n",
    "\n",
    "circuit = steane_encoding()\n",
    "print(circuit)"
   ]
  },
  {
   "cell_type": "markdown",
   "id": "41f8a9aa",
   "metadata": {},
   "source": [
    "The circuit can then be converted into a PyZX circuit, which, in turn, can be converted into a PyZX graph."
   ]
  },
  {
   "cell_type": "code",
   "execution_count": null,
   "id": "1a1409f6",
   "metadata": {},
   "outputs": [],
   "source": [
    "# Thanks [Yilun Zhao](https://github.com/Zhaoyilunnn) for the code and rationale in this block.\n",
    "\n",
    "def qiskit2zx(circuit: QuantumCircuit) -> zx.circuit.Circuit:\n",
    "    qasm_str = qasm2.dumps(circuit)\n",
    "    zx_circuit = zx.circuit.Circuit.from_qasm(qasm_str)\n",
    "    return zx_circuit\n",
    "\n",
    "zx_circuit = qiskit2zx(circuit)\n",
    "print(zx_circuit.gates)\n",
    "\n",
    "zx_graph = zx_circuit.to_graph()\n",
    "\n",
    "zx.draw(zx_graph, labels=True)  # PyZX produces Jupyter visualisations using D3.\n",
    "fig_data = zx.draw_matplotlib(zx_graph, labels=True)  # We also need a matplotlib figure to overlay the original ZX-graph over the final visualisation produced by topologiq."
   ]
  },
  {
   "cell_type": "markdown",
   "id": "5d04deea",
   "metadata": {},
   "source": [
    "This circuit/graph is quite large. This notebook looks at optimisation strategies in the second section. \n",
    "\n",
    "However, for demonstration purposes, we will run the circuit as-is. The result should be a rather-large-yet-topologically-correct lattice surgery / space-time diagram. \n",
    "\n",
    "For this, we convert the zx_graph into ***topologiq's*** native graph object, a `simple_graph`, and fed this `simple_graph` to the algorithm.\n",
    "\n",
    "> **Note.** If the PyZX graph has additional information like phases or Pauli webs, this step will momentarily lose that information. There are other methods not covered in this notebook to recover and apply this information to outputs."
   ]
  },
  {
   "cell_type": "code",
   "execution_count": null,
   "id": "ff09a790",
   "metadata": {},
   "outputs": [],
   "source": [
    "# CONVERT GRAPH TO TOPOLOGIQ'S NATIVE OBJECT\n",
    "simple_graph = pyzx_g_to_simple_g(zx_graph)\n",
    "\n",
    "# PARAMS & HYPERPARAMS\n",
    "circuit_name = \"steane_from_qiskit\"\n",
    "visualisation = \"final\"  # Calls an interactive 3D visualisation at the end. Change to None to deactivate visualisation.\n",
    "animation = None  # If \"GIF\" or \"MP4\", creates a summary animation of the process (significant runtime impact).\n",
    "VALUE_FUNCTION_HYPERPARAMS = (\n",
    "    -1,  # Weight for lenght of path\n",
    "    -1,  # Weight for number of \"beams\" broken by path\n",
    ")\n",
    "\n",
    "kwargs = {\n",
    "    \"weights\": VALUE_FUNCTION_HYPERPARAMS,\n",
    "    \"length_of_beams\": 9,\n",
    "}\n",
    "\n",
    "simple_graph_after_use, edge_pths, lattice_nodes, lattice_edges = runner(\n",
    "    simple_graph,\n",
    "    circuit_name,\n",
    "    strip_boundaries=False,\n",
    "    hide_boundaries=False,\n",
    "    max_attempts=10,\n",
    "    visualise=(visualisation, animation),\n",
    "    fig_data=fig_data,\n",
    "    **kwargs\n",
    ")"
   ]
  },
  {
   "cell_type": "markdown",
   "id": "853bd00c",
   "metadata": {},
   "source": [
    "## Non-descript QASM -> PyZX with optimisation"
   ]
  },
  {
   "cell_type": "markdown",
   "id": "255eb67d",
   "metadata": {},
   "source": [
    "The circuit above is somewhat difficult to simplify. We invite you to give it a try as exercise. \n",
    "\n",
    "To keep the notebook simple and stick to demonstrating functionality, we'll now switch to a non-descript QASM file written by hand. This non-descript QASM file can be simplified in less steps than the one in the previous section, which should allow the focus to stay on the overall process rather than specific PyZX simplification strategies.\n",
    "\n",
    "So, first, let's load the QASM file."
   ]
  },
  {
   "cell_type": "code",
   "execution_count": null,
   "id": "d4df799d",
   "metadata": {},
   "outputs": [],
   "source": [
    "# Thanks [Kabir Dubey](https://github.com/KabirDubey) for the QASM file and code/rationale in this block. \n",
    "\n",
    "qasm_file_path = str(os.path.join(root_folder, \"assets/graphs\", \"steane_code_compressed.qasm\"))\n",
    "\n",
    "try:\n",
    "    zx_circuit = zx.Circuit.from_qasm_file(qasm_file_path)\n",
    "except Exception as e:\n",
    "    with open(qasm_file_path, \"r\") as f:\n",
    "        qasm_str = f.read()\n",
    "    zx_circuit = zx.qasm(qasm_str)\n",
    "\n",
    "zx_graph = zx_circuit.to_graph()\n",
    "\n",
    "zx.draw(zx_graph, labels=True)  # PyZX produces Jupyter visualisations using D3.\n",
    "fig_data = zx.draw_matplotlib(zx_graph, labels=True)  # We also need a matplotlib figure to overlay the original ZX-graph over the final visualisation produced by topologiq."
   ]
  },
  {
   "cell_type": "markdown",
   "id": "89fbfa50",
   "metadata": {},
   "source": [
    "Now, let's simplify the graph a little using PyZX native functions."
   ]
  },
  {
   "cell_type": "code",
   "execution_count": null,
   "id": "f4bcb378",
   "metadata": {},
   "outputs": [],
   "source": [
    "# Thanks [Purva Thakre](https://github.com/purva-thakre) for research into and ideas into QASM/PyZX simplifying strategies, which informed choices in this block.\n",
    "\n",
    "# Make a copy to avoid over-writing the imported circuit.\n",
    "zx_graph_optimised = zx_graph.copy()\n",
    "\n",
    "# Auto-simplify using spider fusion method.\n",
    "zx.simplify.spider_simp(zx_graph_optimised)\n",
    "\n",
    "zx.draw(zx_graph_optimised, labels=True)  # Jupyter visualisations using D3.\n",
    "fig_data = zx.draw_matplotlib(zx_graph_optimised, labels=True)  # Fig to overlay in final vis."
   ]
  },
  {
   "cell_type": "markdown",
   "id": "d20812c6",
   "metadata": {},
   "source": [
    "After, we only need to transform PyZX graph into **topologiq's** native graph format run it. \n",
    "\n",
    "> **Note 1.** If the PyZX graph has additional information like phases or Pauli webs, this step will momentarily lose that information. There are other methods not covered in this notebook to recover and apply this information to outputs.\n",
    "\n",
    "> **Note 2.** Visualisations and animations are **enabled**. **Topologiq** will create a PNG for each edge completed, which takes quite a bit of time for large circuits with many edges. Accordingly, the following block of code will take some time to complete. Without visualisations and animations, the code below takes fractions of a second."
   ]
  },
  {
   "cell_type": "code",
   "execution_count": null,
   "id": "5556b958",
   "metadata": {},
   "outputs": [],
   "source": [
    "# CONVERT GRAPH TO TOPOLOGIQ'S NATIVE OBJECT\n",
    "simple_graph = pyzx_g_to_simple_g(zx_graph_optimised)\n",
    "\n",
    "# PARAMS & HYPERPARAMS\n",
    "circuit_name = \"steane_optimised\"\n",
    "visualisation = \"final\"  # Calls an interactive 3D visualisation at the end. Change to None to deactivate visualisation.\n",
    "animation = None  # If \"GIF\" or \"MP4\", creates a summary animation of the process (significant runtime impact).\n",
    "VALUE_FUNCTION_HYPERPARAMS = (\n",
    "    -1,  # Weight for lenght of path\n",
    "    -1,  # Weight for number of \"beams\" broken by path\n",
    ")\n",
    "\n",
    "kwargs = {\n",
    "    \"weights\": VALUE_FUNCTION_HYPERPARAMS,\n",
    "    \"length_of_beams\": 9,\n",
    "}\n",
    "\n",
    "simple_graph_after_use, edge_pths, lattice_nodes, lattice_edges = runner(\n",
    "    simple_graph,\n",
    "    circuit_name,\n",
    "    strip_boundaries=False,\n",
    "    hide_boundaries=False,\n",
    "    max_attempts=10,\n",
    "    visualise=(visualisation, animation),\n",
    "    fig_data=fig_data,\n",
    "    **kwargs\n",
    ")"
   ]
  },
  {
   "cell_type": "markdown",
   "id": "6fd24087",
   "metadata": {},
   "source": [
    "We can simplify the circuit even more using ZX-rules manually."
   ]
  },
  {
   "cell_type": "code",
   "execution_count": null,
   "id": "70e5143a",
   "metadata": {},
   "outputs": [],
   "source": [
    "# Thanks [Purva Thakre](https://github.com/purva-thakre) for research into and ideas into QASM/PyZX simplifying strategies, which informed choices in this block.\n",
    "\n",
    "# Spider-fusion method will not merge boundaries connected to single spiders.\n",
    "# This is related to how PyZX presents graphs.\n",
    "# But we can merge manually applying the spider-fusion rule.\n",
    "for pair in [(0, 25), (1, 26), (2, 27), (3, 28)]:\n",
    "    zx_graph_optimised.add_edge(zx_graph_optimised.edge(pair[0], pair[1]))\n",
    "    zx_graph_optimised.remove_vertex(pair[0])\n",
    "\n",
    "for pair in [(4, 29), (5, 30), (6, 31)]:\n",
    "    zx_graph_optimised.add_edge(zx_graph_optimised.edge(pair[1], pair[0]))\n",
    "    zx_graph_optimised.remove_vertex(pair[1])\n",
    "\n",
    "zx_graph_optimised.normalize()\n",
    "\n",
    "zx.draw(zx_graph_optimised, labels=True)  # Jupyter visualisations using D3.\n",
    "fig_data = zx.draw_matplotlib(zx_graph_optimised, labels=True)  # Fig to overlay in final vis."
   ]
  },
  {
   "cell_type": "markdown",
   "id": "06012600",
   "metadata": {},
   "source": [
    "Let's now run this final optimised version."
   ]
  },
  {
   "cell_type": "code",
   "execution_count": null,
   "id": "b76fad67",
   "metadata": {},
   "outputs": [],
   "source": [
    "# CONVERT GRAPH TO TOPOLOGIQ'S NATIVE OBJECT\n",
    "simple_graph = pyzx_g_to_simple_g(zx_graph_optimised)\n",
    "\n",
    "# PARAMS & HYPERPARAMS\n",
    "circuit_name = \"steane_optimised\"\n",
    "visualisation = \"final\"  # Calls an interactive 3D visualisation at the end. Change to None to deactivate visualisation.\n",
    "animation = None  # If \"GIF\" or \"MP4\", creates a summary animation of the process (significant runtime impact).\n",
    "VALUE_FUNCTION_HYPERPARAMS = (\n",
    "    -1,  # Weight for lenght of path\n",
    "    -1,  # Weight for number of \"beams\" broken by path\n",
    ")\n",
    "\n",
    "kwargs = {\n",
    "    \"weights\": VALUE_FUNCTION_HYPERPARAMS,\n",
    "    \"length_of_beams\": 9,\n",
    "}\n",
    "\n",
    "simple_graph_after_use, edge_pths, lattice_nodes, lattice_edges = runner(\n",
    "    simple_graph,\n",
    "    circuit_name,\n",
    "    strip_boundaries=False,\n",
    "    hide_boundaries=False,\n",
    "    max_attempts=10,\n",
    "    visualise=(visualisation, animation),\n",
    "    fig_data=fig_data,\n",
    "    **kwargs\n",
    ")"
   ]
  },
  {
   "cell_type": "markdown",
   "id": "3591958c",
   "metadata": {},
   "source": [
    "For memory's sake, let's shut down any open plots."
   ]
  },
  {
   "cell_type": "code",
   "execution_count": null,
   "id": "b54f78b4",
   "metadata": {},
   "outputs": [],
   "source": [
    "from matplotlib.pyplot import close\n",
    "close()"
   ]
  }
 ],
 "metadata": {
  "kernelspec": {
   "display_name": ".venv (3.12.6)",
   "language": "python",
   "name": "python3"
  },
  "language_info": {
   "codemirror_mode": {
    "name": "ipython",
    "version": 3
   },
   "file_extension": ".py",
   "mimetype": "text/x-python",
   "name": "python",
   "nbconvert_exporter": "python",
   "pygments_lexer": "ipython3",
   "version": "3.12.6"
  }
 },
 "nbformat": 4,
 "nbformat_minor": 5
}
