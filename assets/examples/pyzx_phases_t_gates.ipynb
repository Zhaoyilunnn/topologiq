{
 "cells": [
  {
   "cell_type": "markdown",
   "id": "325ca446",
   "metadata": {},
   "source": [
    "# PyZX interoperability: phases and T-gates."
   ]
  },
  {
   "cell_type": "markdown",
   "id": "47982202",
   "metadata": {},
   "source": [
    "*(This notebook is still being written. Take it as general idea, not final version.)*\n",
    "\n",
    "This notebook offers an example of algorithmic lattice surgery with an emphasis on applying phases in the original PyZX graph to the lattice surgery results produced by the algorithm, and using that information to determine with of the blocks in the final result are T-gates."
   ]
  },
  {
   "cell_type": "code",
   "execution_count": null,
   "id": "395d6c98",
   "metadata": {},
   "outputs": [],
   "source": [
    "import os\n",
    "import sys\n",
    "import pyzx as zx\n",
    "from pathlib import Path\n",
    "from fractions import Fraction\n",
    "from pyzx.utils import EdgeType\n",
    "zx.settings.colors = zx.rgb_colors\n",
    "%matplotlib widget\n",
    "\n",
    "repository_root = os.path.abspath(os.path.join(os.getcwd(), \"..\", \"..\"))\n",
    "output_folder_path = f\"{repository_root}/outputs/txt\"\n",
    "if repository_root not in sys.path:\n",
    "    sys.path.insert(0, repository_root)\n",
    "\n",
    "from scripts.runner import runner\n",
    "from utils.interop_pyzx import get_simple_graph_from_pyzx\n"
   ]
  },
  {
   "cell_type": "markdown",
   "id": "52f04e19",
   "metadata": {},
   "source": [
    "## Input: Preparing a PyZX graph"
   ]
  },
  {
   "cell_type": "markdown",
   "id": "22a40b10",
   "metadata": {},
   "source": [
    "Let's start by preparing a PyZX graph. We'll use a graph that is large enough to allow a variety of spiders with and without phases but also sufficiently short as to not have to wait too long for the foundational algorithmic result to be ready for manipulation."
   ]
  },
  {
   "cell_type": "code",
   "execution_count": null,
   "id": "c4f2641e",
   "metadata": {},
   "outputs": [],
   "source": [
    "\n",
    "\n",
    "circuit_name = \"pyzx_example_t_gates\"\n",
    "\n",
    "c = zx.Circuit(3)\n",
    "c.add_gate(\"ZPhase\", 0, phase=Fraction(1,2))\n",
    "c.add_gate(\"CNOT\", 0, 2)\n",
    "c.add_gate(\"CNOT\", 1, 2)\n",
    "c.add_gate(\"CNOT\", 0, 2)\n",
    "c.add_gate(\"ZPhase\", 1, phase=Fraction(1,1))\n",
    "c.add_gate(\"ZPhase\", 2, phase=Fraction(1,4))\n",
    "\n",
    "pyzx_graph = c.to_graph()\n",
    "pyzx_graph.add_edge(edge_pair=(8,5),  edgetype=EdgeType.SIMPLE)\n",
    "pyzx_graph.add_to_phase(vertex=7, phase=Fraction(1/2))\n",
    "pyzx_graph.add_to_phase(vertex=10, phase=Fraction(1/4))\n",
    "\n",
    "zx.draw(pyzx_graph, labels=True)"
   ]
  },
  {
   "cell_type": "markdown",
   "id": "d6e9160b",
   "metadata": {},
   "source": [
    "## Process: Running the algorithm"
   ]
  },
  {
   "cell_type": "markdown",
   "id": "4da8fd99",
   "metadata": {},
   "source": [
    "To feed the graph into the algorithm, we first need to convert it into a `simple_graph`, i.e., a simple dictionary of nodes and edges. The conversion removes information that is not needed for foundational operations, i.e., converting the graph into a 3D version of itself. We will recover that information later in the process."
   ]
  },
  {
   "cell_type": "code",
   "execution_count": null,
   "id": "85648127",
   "metadata": {},
   "outputs": [],
   "source": [
    "simple_graph = get_simple_graph_from_pyzx(pyzx_graph)\n",
    "print(simple_graph)"
   ]
  },
  {
   "cell_type": "markdown",
   "id": "6b1d0866",
   "metadata": {},
   "source": [
    "The next step is to feed the `simple_graph` to the algorithm and let it work its magic (it's not magic, but let's pretend it is).\n",
    "\n",
    "If/when the algorithm is successful, it will produce:\n",
    "- an interactive visualisation displayed on screen,\n",
    "- an animation of the process saved to `./outputs/media/`,\n",
    "- node-by-node/edge-by-edge text results saved to `./outputs/txt/`,\n",
    "- and related objects for programmatic use.\n",
    "\n",
    "It is good practice to examine the results printed to screen, too. In short, the algorithm visits all spiders in a ZX-graph and exchanges them to a 3D version of themselves, and processes edges by also encoding them as a special kind of 3D edge. The printouts on screen detail the order of operations.\n",
    "\n",
    "**Note!** This notebook limits the number of attempts by the algorithm to a single attempt using the optional `max_attempts=1` parameter. You may need to run the following block a few times to get a successful result. The standard approach is to give the algorithm 10 attempts. The number of attempts is limited here for readability. "
   ]
  },
  {
   "cell_type": "code",
   "execution_count": null,
   "id": "3753a6c4",
   "metadata": {},
   "outputs": [],
   "source": [
    "# Define weights for the value function to to choose best of several valid paths per each edge based on: (length of path, number of beams broken by path)\n",
    "# A negative value for length of path favours short paths.\n",
    "# A negative value for number of beams broken by path favours placements that do not block potential open faces requiring connections.\n",
    "VALUE_FUNCTION_HYPERPARAMS = (-1, -0.5)\n",
    "\n",
    "# Define a desired length of beams\n",
    "# The longer the beams, the more space between faces. This feature needs improvement but, in theory, increases the odds of success.\n",
    "# Needs to be combined with an equal or larger `MAX_PATHFINDER_SEARCH_SPACE`\n",
    "LENGTH_OF_BEAMS = 3\n",
    "\n",
    "# Define the maximum size of the search space (distance between source and target node for each pathfinding iteration)\n",
    "# Larger values will produce a larger number of paths, and longer paths. This increases the odds of a successful result, with a significant impact on runtime.\n",
    "MAX_PATHFINDER_SEARCH_SPACE = 3\n",
    "\n",
    "kwargs = {\n",
    "    \"weights\": VALUE_FUNCTION_HYPERPARAMS,\n",
    "    \"length_of_beams\": LENGTH_OF_BEAMS,\n",
    "    \"max_search_space\": MAX_PATHFINDER_SEARCH_SPACE,\n",
    "}\n",
    "\n",
    "simple_graph_after_use, edge_paths, lattice_nodes, lattice_edges = runner(\n",
    "    simple_graph, circuit_name, strip_boundaries=False, hide_boundaries=False, max_attempts=1, visualise=\"final\", **kwargs\n",
    ")"
   ]
  },
  {
   "cell_type": "markdown",
   "id": "0def7330",
   "metadata": {},
   "source": [
    "## Output: Transferring phases and identifying T-gates in outputs"
   ]
  },
  {
   "cell_type": "markdown",
   "id": "e68d8634",
   "metadata": {},
   "source": [
    "It is always helpful to visualise the relation between the original PyZX graph and results by printing the graph alongside a summary of how the algorithm rendered each edge.\n",
    "- Short edges containing a three step combination of block-pipe-block or node-edge-node are edges that the algorithm cleared easily by simply placing the next spider.\n",
    "- Long edges containing more than three items correspond to edges the algorithm had to break into several segments to clear in the 3D space."
   ]
  },
  {
   "cell_type": "code",
   "execution_count": null,
   "id": "050c1e55",
   "metadata": {},
   "outputs": [],
   "source": [
    "from utils.utils_zx_graphs import get_zx_type_from_kind\n",
    "zx.draw(pyzx_graph, labels=True)\n",
    "\n",
    "if edge_paths:\n",
    "    for key, edge in edge_paths.items():\n",
    "        block_by_block = []\n",
    "        nodes_and_edges = []\n",
    "        for node in edge[\"path_nodes\"]:\n",
    "            block_by_block.append(node[1])\n",
    "            nodes_and_edges.append(get_zx_type_from_kind(node[1]))\n",
    "        print(f\"{key}: {\"-\".join(block_by_block)} ({\" - \".join(nodes_and_edges)})\")"
   ]
  },
  {
   "cell_type": "markdown",
   "id": "e73b3eb1",
   "metadata": {},
   "source": [
    "You can also print the final `lattice_nodes` and `lattice_edges` objects for inspection. These would be the objects one would use to transfer the space-time diagram to a different system. They offer a block-by-block 3D representation of the original ZX-graph.\n",
    "\n",
    "As you can observe from these objects, some of the 3D blocks in `lattice_nodes` have the same IDs as the spiders in the original ZX graph. These blocks are the direct representation of the original spider sharing the ID. Blocks with IDs different to those in the original ZX graph are additional intermediary nodes that the algorithm had to place to be able to clear some of the edges in the 3D space.\n",
    "\n",
    "The same is true of the 3D blocks in `lattice_edges`. The edges that have the same (source, target) IDs are a direct representation of the corresponding edges in the original ZX graph. Additional edges may or may not be necessary depending on the graph, but essentially mean the algorithm had to break one of the original edges into several subsegments in order to be able to clear the path in 3D."
   ]
  },
  {
   "cell_type": "code",
   "execution_count": null,
   "id": "aaa678c6",
   "metadata": {},
   "outputs": [],
   "source": [
    "if lattice_nodes:\n",
    "    for key, node in lattice_nodes.items():\n",
    "        print(f\"Node ID {key}: {node}.\")\n",
    "\n",
    "if lattice_edges:\n",
    "    for key, edge in lattice_edges.items():\n",
    "        print(f\"Edge ID {key}: {edge[0]} (corresponding edge in ZX-graph: {edge[1]}).\")"
   ]
  },
  {
   "cell_type": "markdown",
   "id": "bd1a407c",
   "metadata": {},
   "source": [
    "As ellaborated [here](https://arxiv.org/pdf/1902.03178) and [here](https://arxiv.org/pdf/1903.10477), non-Clifford phases are those which are not multiples of π/2.\n",
    "\n",
    "It is therefore possible to identify T-gates in the final space-time diagram in two steps:\n",
    "- Transfer the phases of the original spiders to their corresponding pair in `lattice_nodes`, \n",
    "- Use phases to to identify T-gates."
   ]
  },
  {
   "cell_type": "code",
   "execution_count": null,
   "id": "9195a6dd",
   "metadata": {},
   "outputs": [],
   "source": [
    "map_of_phases = pyzx_graph.phases()\n",
    "lattice_nodes_extended = {}\n",
    "\n",
    "if lattice_nodes:\n",
    "    for id, node in lattice_nodes.items():\n",
    "        position, kind = node\n",
    "        phase = map_of_phases[id] if id in map_of_phases.keys() else 0\n",
    "        gate_type = \"T\" if (isinstance(phase, Fraction) and phase % Fraction(1/2) != Fraction(0/1)) else \"Clifford\"\n",
    "        lattice_nodes_extended[id] = (position, kind, phase, gate_type)"
   ]
  },
  {
   "cell_type": "markdown",
   "id": "19404c19",
   "metadata": {},
   "source": [
    "Finally, we can review the result by printing it to screen and/or appending it to previously saved text outputs."
   ]
  },
  {
   "cell_type": "code",
   "execution_count": null,
   "id": "18ba3a1b",
   "metadata": {},
   "outputs": [],
   "source": [
    "for id, node in lattice_nodes_extended.items():\n",
    "    print(f\"{id}: {node}\")\n",
    "\n",
    "lines = []\n",
    "if lattice_nodes_extended and lattice_edges:\n",
    "    lines.append(\n",
    "        \"\\n__________________________\\nLATTICE SURGERY EXTENDED (Graph + Phases)\\n\"\n",
    "    )\n",
    "    for key, node in lattice_nodes_extended.items():\n",
    "        lines.append(f\"Node ID: {key}. Info: {node}\\n\")\n",
    "    for key, edge_info in lattice_edges.items():\n",
    "         lines.append(f\"Edge ID: {key}. Kind: {edge_info[0]}. Original edge in ZX graph: {edge_info[1]} \\n\")\n",
    "\n",
    "    Path(output_folder_path).mkdir(parents=True, exist_ok=True)\n",
    "    with open(f\"{output_folder_path}/{circuit_name}.txt\", \"a\") as f:\n",
    "        f.writelines(lines)\n",
    "        f.close()\n",
    "\n",
    "    print(f\"\\nResult saved to: <...>/{circuit_name}.txt\")"
   ]
  }
 ],
 "metadata": {
  "kernelspec": {
   "display_name": ".venv (3.12.6)",
   "language": "python",
   "name": "python3"
  },
  "language_info": {
   "codemirror_mode": {
    "name": "ipython",
    "version": 3
   },
   "file_extension": ".py",
   "mimetype": "text/x-python",
   "name": "python",
   "nbconvert_exporter": "python",
   "pygments_lexer": "ipython3",
   "version": "3.12.6"
  }
 },
 "nbformat": 4,
 "nbformat_minor": 5
}
