{
 "cells": [
  {
   "cell_type": "markdown",
   "id": "325ca446",
   "metadata": {},
   "source": [
    "# PyZX interoperability: a simple graph"
   ]
  },
  {
   "cell_type": "markdown",
   "id": "47982202",
   "metadata": {},
   "source": [
    "*(This notebook is still being written. It is currently in a \"general idea\" kind of version, rather than a final version.)*\n",
    "\n",
    "This notebook offers an example of an algorithmic lattice of a simple PyZX graph. It is helpful for gaining additional insight into the foundational workings of the algorithm and gaining insight into how to prepare and handle a PyZX graph for use with the algorithm."
   ]
  },
  {
   "cell_type": "code",
   "execution_count": null,
   "id": "395d6c98",
   "metadata": {},
   "outputs": [],
   "source": [
    "import os\n",
    "import sys\n",
    "import pyzx as zx\n",
    "\n",
    "root_folder = os.path.abspath(os.path.join(os.getcwd(), \"..\", \"..\"))\n",
    "if root_folder not in sys.path:\n",
    "    sys.path.insert(0, root_folder)\n",
    "\n",
    "from scripts.runner import runner\n",
    "from utils.interop_pyzx import get_simple_graph_from_pyzx\n",
    "from utils.utils_zx_graphs import get_zx_type_from_kind\n",
    "\n",
    "zx.settings.colors = zx.rgb_colors\n",
    "%matplotlib widget"
   ]
  },
  {
   "cell_type": "markdown",
   "id": "52f04e19",
   "metadata": {},
   "source": [
    "## Input: Preparing a PyZX graph"
   ]
  },
  {
   "cell_type": "markdown",
   "id": "22a40b10",
   "metadata": {},
   "source": [
    "Let's start by preparing a PyZX circuit and converting it to a PyZX graph. We'll use a simple graph for this notebook, consisting of three CNOTs. You can also change the circuit freely as long as it is ultimately convertable into a native PyZX graph with all qubit lines interconnected (disconnected qubit lines mean the graph has separate subgraphs / logical computations, in which case the algorithm will only consider one of the subgraphs)."
   ]
  },
  {
   "cell_type": "code",
   "execution_count": null,
   "id": "c4f2641e",
   "metadata": {},
   "outputs": [],
   "source": [
    "circuit_name = \"pyzx_example_cnots\"\n",
    "\n",
    "c = zx.Circuit(2)\n",
    "c.add_gate(\"CNOT\", 0, 1)\n",
    "c.add_gate(\"CNOT\", 1, 0)\n",
    "c.add_gate(\"CNOT\", 1, 0)\n",
    "\n",
    "pyzx_graph = c.to_graph()\n",
    "\n",
    "zx.draw(pyzx_graph, labels=True)"
   ]
  },
  {
   "cell_type": "markdown",
   "id": "d6e9160b",
   "metadata": {},
   "source": [
    "## Process: Running the algorithm"
   ]
  },
  {
   "cell_type": "markdown",
   "id": "4da8fd99",
   "metadata": {},
   "source": [
    "PyZX graphs can have a lot of information that the algorithm does not need to undertake its foundational task of placing spiders in a 3D space.\n",
    "\n",
    "So, to feed the graph into the algorithm, we first need to convert it into a `simple_graph`, i.e., a simple dictionary of nodes and edges. The conversion removes information that is not needed for foundational operations (ps. while this notebook sticks to the basics, the information can be recovered).\n",
    "\n",
    "There is a single instruction to distill a PyZX graph into a `simple_graph`. It undertakes all steps below:\n",
    "- Dump the entire PyZX graph into a dictionary using PyZX internal methods,\n",
    "- Transform into a dictionary with clear syntax for 3D positioning but all values zeroed out,\n",
    "- Distill the 3D dictionary into a simpler dictionary for consumption by the algorithm."
   ]
  },
  {
   "cell_type": "code",
   "execution_count": null,
   "id": "85648127",
   "metadata": {},
   "outputs": [],
   "source": [
    "simple_graph = get_simple_graph_from_pyzx(pyzx_graph)\n",
    "print(simple_graph)"
   ]
  },
  {
   "cell_type": "markdown",
   "id": "6b1d0866",
   "metadata": {},
   "source": [
    "The next step is to feed the `simple_graph` to the algorithm and let it work its magic (it's not magic, but let's pretend it is).\n",
    "\n",
    "If/when the algorithm is successful, it will produce:\n",
    "- an interactive visualisation displayed on screen,\n",
    "- an animation of the process saved to `./outputs/media/`,\n",
    "- node-by-node/edge-by-edge text results saved to `./outputs/txt/`,\n",
    "- and related objects for programmatic use.\n",
    "\n",
    "It is good practice to examine the results printed to screen, too.\n",
    "\n",
    "In short, the algorithm works by visiting all spiders in a ZX-graph and exchanging them for a 3D version of themselves, while processing edges similarly by encoding them as a special kind of 3D block representing an edge. The printouts on screen detail the order of operations.\n",
    "\n",
    "Look at the printouts closely.\n",
    "- The algorithm picks a spider with a high number of edges as starting point and places its corresponding block in a 3D space.\n",
    "- It then, one by one, places the neighbours of this spider, i.e., all other spiders connected to it.\n",
    "- When all neighbours of the initial spider are placed, the \"current\" spider is updated to one of the blocks placed previously.\n",
    "- Again. \n",
    "- And again, \n",
    "- Until there are no more spiders left to place.\n",
    "\n",
    "It is important to highlight that the process above does NOT automatically guarantee all edges in the original ZX graph are handled. For this, after placing all spiders, the algorithm checks for edges that still need to be processed.\n",
    "- These last set of edges are particularly difficult to clear in 3D because the (source, target) spiders have already been placed in the 3D space. \n",
    "- The algorithm needs to figure out a topologically-correct path without changing the position or kind of either block in the (source, target) pair.\n",
    "- This *often* requires adding intermediary blocks between (source, target), and breaking the edge into several segments.\n",
    "\n",
    "The final result is therefore a combination of short paths from easy placements and long paths from placements that required intermediary blocks. \n",
    "\n",
    "**Note 1.** This notebook limits the number of attempts by the algorithm to a single attempt using the optional `max_attempts=1` parameter. You may need to run the following block a few times to get a successful result. The standard approach is to give the algorithm 10 attempts. The number of attempts is limited here for readability. \n",
    "\n",
    "**Note 2.** Each visualisation in the outputs below is an interactive 3D panel. They take a bit to load, but allow you to examine each step in 3D."
   ]
  },
  {
   "cell_type": "code",
   "execution_count": null,
   "id": "3753a6c4",
   "metadata": {},
   "outputs": [],
   "source": [
    "# Define weights for the value function to to choose best of several valid paths per each edge based on: (length of path, number of beams broken by path)\n",
    "# A negative value for length of path favours short paths.\n",
    "# A negative value for number of beams broken by path favours placements that do not block potential open faces requiring connections.\n",
    "VALUE_FUNCTION_HYPERPARAMS = (-1, -0.5)\n",
    "\n",
    "# Define a desired length of beams\n",
    "# The longer the beams, the more space between faces. This feature needs improvement but, in theory, increases the odds of success.\n",
    "# Needs to be combined with an equal or larger `MAX_PATHFINDER_SEARCH_SPACE`\n",
    "LENGTH_OF_BEAMS = 3\n",
    "\n",
    "# Define the maximum size of the search space (distance between source and target node for each pathfinding iteration)\n",
    "# Larger values will produce a larger number of paths, and longer paths. This increases the odds of a successful result, with a significant impact on runtime.\n",
    "MAX_PATHFINDER_SEARCH_SPACE = 3\n",
    "\n",
    "kwargs = {\n",
    "    \"weights\": VALUE_FUNCTION_HYPERPARAMS,\n",
    "    \"length_of_beams\": LENGTH_OF_BEAMS,\n",
    "    \"max_search_space\": MAX_PATHFINDER_SEARCH_SPACE,\n",
    "}\n",
    "\n",
    "zx.draw(pyzx_graph, labels=True)\n",
    "\n",
    "simple_graph_after_use, edge_paths, lattice_nodes, lattice_edges = runner(\n",
    "    simple_graph, circuit_name, strip_boundaries=False, hide_boundaries=False, max_attempts=1, visualise=\"detail\", **kwargs\n",
    ")"
   ]
  },
  {
   "cell_type": "markdown",
   "id": "0def7330",
   "metadata": {},
   "source": [
    "## Output: Using outputs"
   ]
  },
  {
   "cell_type": "markdown",
   "id": "bd1a407c",
   "metadata": {},
   "source": [
    "The algorithm returns four objects:\n",
    "- `simple_graph_after_use`: the original `simple_graph` returned for convenience.\n",
    "- `edge_paths`: a set of 3D edges where each edge corresponds to the original edges in the ZX graph but where the \"nodes\" have been exchanged for all 3D blocks and pipes needed to clear the edge in a 3D space (contains redundant nodes across edges).\n",
    "- `lattice_nodes`: all nodes in `edge_paths` distilled into a single object with no redundant nodes.\n",
    "- `lattice_edges`: all edges in `edge_paths` distilled into a single object with no redundant edges.\n",
    "\n",
    "These objects can be used variously.\n",
    "\n",
    "For instance, with more complex graphs, it is possible to link information in the original PyZX graph with the results in these objects.\n",
    "\n",
    "Having said that, since the circuit in this notebook is very simple, we will only visualise how the algorithm constructed each edge. \n",
    "\n",
    "This is possible by comparing the original PyZX graph with the `edge_paths` object."
   ]
  },
  {
   "cell_type": "code",
   "execution_count": null,
   "id": "3e539d39",
   "metadata": {},
   "outputs": [],
   "source": [
    "zx.draw(pyzx_graph, labels=True)\n",
    "\n",
    "if edge_paths:\n",
    "    for key, edge in edge_paths.items():\n",
    "        block_by_block = []\n",
    "        nodes_and_edges = []\n",
    "        for node in edge[\"path_nodes\"]:\n",
    "            block_by_block.append(node[1])\n",
    "            nodes_and_edges.append(get_zx_type_from_kind(node[1]))\n",
    "        print(f\"{key}: {\"-\".join(block_by_block)} ({\" - \".join(nodes_and_edges)})\")"
   ]
  }
 ],
 "metadata": {
  "kernelspec": {
   "display_name": ".venv (3.12.6)",
   "language": "python",
   "name": "python3"
  },
  "language_info": {
   "codemirror_mode": {
    "name": "ipython",
    "version": 3
   },
   "file_extension": ".py",
   "mimetype": "text/x-python",
   "name": "python",
   "nbconvert_exporter": "python",
   "pygments_lexer": "ipython3",
   "version": "3.12.6"
  }
 },
 "nbformat": 4,
 "nbformat_minor": 5
}
